# Temperature Regression - Predict Future Temperatures
import pandas as pd
import numpy as np
import matplotlib.pyplot as plt
from sklearn.linear_model import LinearRegression
from datetime import timedelta

# Load dataset
df = pd.read_csv("daily_temperature.csv")
df['Date'] = pd.to_datetime(df['Date'])
df = df.sort_values('Date')

# Convert dates to numeric values for regression
df['Day'] = (df['Date'] - df['Date'].min()).dt.days

# Train Linear Regression model
X = df[['Day']]
y = df['Temperature']
model = LinearRegression()
model.fit(X, y)

# Predict next 7 days
last_day = df['Day'].max()
future_days = np.array([last_day + i for i in range(1, 8)]).reshape(-1, 1)
future_dates = [df['Date'].max() + timedelta(days=i) for i in range(1, 8)]
future_preds = model.predict(future_days)

# Create prediction DataFrame
future_df = pd.DataFrame({
    'Date': future_dates,
    'Predicted_Temperature': future_preds
})

# Plotting
plt.figure(figsize=(10, 5))
plt.plot(df['Date'], y, label='Actual', marker='o')
plt.plot(future_df['Date'], future_preds, label='Predicted', marker='x', linestyle='--')
plt.xlabel("Date")
plt.ylabel("Temperature (°C)")
plt.title("Temperature Prediction (Linear Regression)")
plt.legend()
plt.grid(True)
plt.tight_layout()
plt.show()

# Show future predictions
print("📅 Next 7 Days Predicted Temperatures:")
print(future_df)
